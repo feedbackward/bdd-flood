{
 "cells": [
  {
   "cell_type": "markdown",
   "id": "2fd400de-0d08-49dc-aa64-c0854d287091",
   "metadata": {},
   "source": [
    "# Evaluation: *benchmark* data experiments\n",
    "\n",
    "Here we process the results of the benchmark data experiments following Ishida et al. (2020), also using [some handy coding examples](https://gist.github.com/DavidWalz/0f5e84ffc4c3929f3af5a93268eaeab9)."
   ]
  },
  {
   "cell_type": "code",
   "execution_count": 1,
   "id": "0506df58-f842-4589-b733-8abbdce95ea1",
   "metadata": {},
   "outputs": [],
   "source": [
    "# External modules.\n",
    "import matplotlib.pyplot as plt\n",
    "import mlflow\n",
    "import numpy as np\n",
    "import os\n",
    "\n",
    "# Internal modules.\n",
    "from setup.directories import img_path\n",
    "from setup.results import my_ext\n",
    "from setup.utils import makedir_safe"
   ]
  },
  {
   "cell_type": "code",
   "execution_count": 2,
   "id": "44374a08-c1fd-42f9-9a70-c6b1427252a3",
   "metadata": {},
   "outputs": [],
   "source": [
    "# Make a directory to store images, if one doesn't exist already.\n",
    "makedir_safe(img_path)"
   ]
  },
  {
   "cell_type": "code",
   "execution_count": 3,
   "id": "335c8109-28a6-4706-b175-5d66fba6e318",
   "metadata": {},
   "outputs": [
    {
     "name": "stdout",
     "output_type": "stream",
     "text": [
      "Experiment_id: 729107857486726074\n",
      "Artifact Location: file:///home/mjh/exps_bdd-flood/2023-09-26/bdd-flood-dev/bdd-flood/mlruns/729107857486726074\n",
      "Tags: {}\n",
      "Lifecycle_stage: active\n",
      "Creation timestamp: 1695771915373\n"
     ]
    }
   ],
   "source": [
    "# Specify an experiment name, get relevant information.\n",
    "exp_name = \"exp:svhn\"\n",
    "data_name = exp_name.split(\":\")[1]\n",
    "experiment = mlflow.get_experiment_by_name(name=exp_name)\n",
    "print(\"Experiment_id: {}\".format(experiment.experiment_id))\n",
    "print(\"Artifact Location: {}\".format(experiment.artifact_location))\n",
    "print(\"Tags: {}\".format(experiment.tags))\n",
    "print(\"Lifecycle_stage: {}\".format(experiment.lifecycle_stage))\n",
    "print(\"Creation timestamp: {}\".format(experiment.creation_time))\n",
    "exp_id = experiment.experiment_id"
   ]
  },
  {
   "cell_type": "markdown",
   "id": "c5abc738-c950-4c78-81cb-f5aa7298b204",
   "metadata": {},
   "source": [
    "As we will see below, the object returned by `mlflow.search_runs(exp_id)` is an instance of a `DataFrame` within the \"pandas\" library. The `DataFrame` is just a simple class for managing \"tabular\" data, i.e., data organized into rows and columns. A two-dimensional array. Let's take a look at the points characterizing this particular data frame."
   ]
  },
  {
   "cell_type": "code",
   "execution_count": 4,
   "id": "1f4cf0c7-de1b-4346-80f0-e5e44579202a",
   "metadata": {},
   "outputs": [
    {
     "name": "stdout",
     "output_type": "stream",
     "text": [
      "<class 'pandas.core.frame.DataFrame'>\n",
      "RangeIndex: 3 entries, 0 to 2\n",
      "Data columns (total 46 columns):\n",
      " #   Column                          Non-Null Count  Dtype              \n",
      "---  ------                          --------------  -----              \n",
      " 0   run_id                          3 non-null      object             \n",
      " 1   experiment_id                   3 non-null      object             \n",
      " 2   status                          3 non-null      object             \n",
      " 3   artifact_uri                    3 non-null      object             \n",
      " 4   start_time                      3 non-null      datetime64[ns, UTC]\n",
      " 5   end_time                        3 non-null      datetime64[ns, UTC]\n",
      " 6   metrics.model_norm              2 non-null      float64            \n",
      " 7   metrics.loss_va                 2 non-null      float64            \n",
      " 8   metrics.acc_te                  2 non-null      float64            \n",
      " 9   metrics.acc_va                  2 non-null      float64            \n",
      " 10  metrics.acc_tr                  2 non-null      float64            \n",
      " 11  metrics.loss_te                 2 non-null      float64            \n",
      " 12  metrics.loss_tr                 2 non-null      float64            \n",
      " 13  params.sigma                    2 non-null      object             \n",
      " 14  params.force_one_gpu            2 non-null      object             \n",
      " 15  params.flood_level              2 non-null      object             \n",
      " 16  params.bs_tr                    2 non-null      object             \n",
      " 17  params.optimizer_base           2 non-null      object             \n",
      " 18  params.loss                     2 non-null      object             \n",
      " 19  params.momentum                 2 non-null      object             \n",
      " 20  params.base_gpu_id              2 non-null      object             \n",
      " 21  params.num_classes              2 non-null      object             \n",
      " 22  params.method                   2 non-null      object             \n",
      " 23  params.radius                   2 non-null      object             \n",
      " 24  params.eta                      2 non-null      object             \n",
      " 25  params.theta                    2 non-null      object             \n",
      " 26  params.weight_decay             2 non-null      object             \n",
      " 27  params.model                    2 non-null      object             \n",
      " 28  params.step_size                2 non-null      object             \n",
      " 29  params.random_seed              2 non-null      object             \n",
      " 30  params.adaptive                 2 non-null      object             \n",
      " 31  params.force_cpu                2 non-null      object             \n",
      " 32  params.dimension                2 non-null      object             \n",
      " 33  params.dataset                  2 non-null      object             \n",
      " 34  params.optimizer                2 non-null      object             \n",
      " 35  params.epochs                   2 non-null      object             \n",
      " 36  tags.mlflow.project.entryPoint  2 non-null      object             \n",
      " 37  tags.mlflow.source.git.repoURL  2 non-null      object             \n",
      " 38  tags.mlflow.source.type         3 non-null      object             \n",
      " 39  tags.mlflow.parentRunId         2 non-null      object             \n",
      " 40  tags.mlflow.gitRepoURL          2 non-null      object             \n",
      " 41  tags.mlflow.runName             3 non-null      object             \n",
      " 42  tags.mlflow.user                3 non-null      object             \n",
      " 43  tags.mlflow.source.git.commit   3 non-null      object             \n",
      " 44  tags.mlflow.source.name         3 non-null      object             \n",
      " 45  tags.mlflow.project.backend     2 non-null      object             \n",
      "dtypes: datetime64[ns, UTC](2), float64(7), object(37)\n",
      "memory usage: 1.2+ KB\n"
     ]
    }
   ],
   "source": [
    "# Take a look at the \"runs\" associated with the selected experiment.\n",
    "runs = mlflow.search_runs(exp_id)\n",
    "runs.info()"
   ]
  },
  {
   "cell_type": "markdown",
   "id": "ae0baea6-c82d-478d-a00c-04816c0f7954",
   "metadata": {},
   "source": [
    "Okay, so we have 46 columns, each with one or more \"entries\" that we can interpret as rows. Each \"entry\" is associated with a single \"run\" (in mlflow terms). It should also be noted that the \"Non-Null Count\" (i.e., the number of non-null entries) differs between columns. Here, the null entries are associated with the \"parent runs\" (just one parent run here, capturing all other runs). There are no entries for these runs because no metrics are assigned to the parent runs, only their children.\n",
    "\n",
    "Anyways, moving forward, we want to extract runs as follows.\n",
    "\n",
    "- For each *trial* and each *method*, using validation data to choose the best method setting (assuming there are multiple settings).\n",
    "- Finally, we want to compute statistics for the selected methods (ave, stdev, etc.) taken over all trials.\n",
    "\n",
    "Let's set up a script to do this, making sure to do a few relevant sanity checks along the way."
   ]
  },
  {
   "cell_type": "code",
   "execution_count": 5,
   "id": "f36ff408-f146-4ae1-a5ac-e2b16101bfd4",
   "metadata": {},
   "outputs": [
    {
     "name": "stdout",
     "output_type": "stream",
     "text": [
      "<class 'pandas.core.frame.DataFrame'>\n",
      "Index: 2 entries, 0 to 1\n",
      "Data columns (total 46 columns):\n",
      " #   Column                          Non-Null Count  Dtype              \n",
      "---  ------                          --------------  -----              \n",
      " 0   run_id                          2 non-null      object             \n",
      " 1   experiment_id                   2 non-null      object             \n",
      " 2   status                          2 non-null      object             \n",
      " 3   artifact_uri                    2 non-null      object             \n",
      " 4   start_time                      2 non-null      datetime64[ns, UTC]\n",
      " 5   end_time                        2 non-null      datetime64[ns, UTC]\n",
      " 6   metrics.model_norm              2 non-null      float64            \n",
      " 7   metrics.loss_va                 2 non-null      float64            \n",
      " 8   metrics.acc_te                  2 non-null      float64            \n",
      " 9   metrics.acc_va                  2 non-null      float64            \n",
      " 10  metrics.acc_tr                  2 non-null      float64            \n",
      " 11  metrics.loss_te                 2 non-null      float64            \n",
      " 12  metrics.loss_tr                 2 non-null      float64            \n",
      " 13  params.sigma                    2 non-null      object             \n",
      " 14  params.force_one_gpu            2 non-null      object             \n",
      " 15  params.flood_level              2 non-null      object             \n",
      " 16  params.bs_tr                    2 non-null      object             \n",
      " 17  params.optimizer_base           2 non-null      object             \n",
      " 18  params.loss                     2 non-null      object             \n",
      " 19  params.momentum                 2 non-null      object             \n",
      " 20  params.base_gpu_id              2 non-null      object             \n",
      " 21  params.num_classes              2 non-null      object             \n",
      " 22  params.method                   2 non-null      object             \n",
      " 23  params.radius                   2 non-null      object             \n",
      " 24  params.eta                      2 non-null      object             \n",
      " 25  params.theta                    2 non-null      object             \n",
      " 26  params.weight_decay             2 non-null      object             \n",
      " 27  params.model                    2 non-null      object             \n",
      " 28  params.step_size                2 non-null      object             \n",
      " 29  params.random_seed              2 non-null      object             \n",
      " 30  params.adaptive                 2 non-null      object             \n",
      " 31  params.force_cpu                2 non-null      object             \n",
      " 32  params.dimension                2 non-null      object             \n",
      " 33  params.dataset                  2 non-null      object             \n",
      " 34  params.optimizer                2 non-null      object             \n",
      " 35  params.epochs                   2 non-null      object             \n",
      " 36  tags.mlflow.project.entryPoint  2 non-null      object             \n",
      " 37  tags.mlflow.source.git.repoURL  2 non-null      object             \n",
      " 38  tags.mlflow.source.type         2 non-null      object             \n",
      " 39  tags.mlflow.parentRunId         2 non-null      object             \n",
      " 40  tags.mlflow.gitRepoURL          2 non-null      object             \n",
      " 41  tags.mlflow.runName             2 non-null      object             \n",
      " 42  tags.mlflow.user                2 non-null      object             \n",
      " 43  tags.mlflow.source.git.commit   2 non-null      object             \n",
      " 44  tags.mlflow.source.name         2 non-null      object             \n",
      " 45  tags.mlflow.project.backend     2 non-null      object             \n",
      "dtypes: datetime64[ns, UTC](2), float64(7), object(37)\n",
      "memory usage: 752.0+ bytes\n"
     ]
    }
   ],
   "source": [
    "# Look at all runs with a non-null setting (basically any param is fine).\n",
    "runs_notnull = runs[runs[\"params.bs_tr\"].notnull()]\n",
    "runs_notnull.info()"
   ]
  },
  {
   "cell_type": "markdown",
   "id": "bd76b596-8472-4db3-89c2-73b574e2c9c7",
   "metadata": {},
   "source": [
    "Excellent. Note that having removed the rows/runs with null values for `params.bs_tr`, all the other columns are also now null-free, as expected. That was easy."
   ]
  },
  {
   "cell_type": "markdown",
   "id": "527969b7-426c-413b-9729-891cdb0d0c43",
   "metadata": {},
   "source": [
    "Moving forward, we would like to parse the `tags.mlflow.runName` column, splitting it into several columns that makes it much easier to index things."
   ]
  },
  {
   "cell_type": "code",
   "execution_count": 6,
   "id": "9638837f-3832-483d-b9a8-5b715b317fa6",
   "metadata": {},
   "outputs": [
    {
     "name": "stdout",
     "output_type": "stream",
     "text": [
      "<class 'pandas.core.frame.DataFrame'>\n",
      "Index: 2 entries, 0 to 1\n",
      "Data columns (total 49 columns):\n",
      " #   Column                          Non-Null Count  Dtype              \n",
      "---  ------                          --------------  -----              \n",
      " 0   run_id                          2 non-null      object             \n",
      " 1   experiment_id                   2 non-null      object             \n",
      " 2   status                          2 non-null      object             \n",
      " 3   artifact_uri                    2 non-null      object             \n",
      " 4   start_time                      2 non-null      datetime64[ns, UTC]\n",
      " 5   end_time                        2 non-null      datetime64[ns, UTC]\n",
      " 6   metrics.model_norm              2 non-null      float64            \n",
      " 7   metrics.loss_va                 2 non-null      float64            \n",
      " 8   metrics.acc_te                  2 non-null      float64            \n",
      " 9   metrics.acc_va                  2 non-null      float64            \n",
      " 10  metrics.acc_tr                  2 non-null      float64            \n",
      " 11  metrics.loss_te                 2 non-null      float64            \n",
      " 12  metrics.loss_tr                 2 non-null      float64            \n",
      " 13  params.sigma                    2 non-null      object             \n",
      " 14  params.force_one_gpu            2 non-null      object             \n",
      " 15  params.flood_level              2 non-null      object             \n",
      " 16  params.bs_tr                    2 non-null      object             \n",
      " 17  params.optimizer_base           2 non-null      object             \n",
      " 18  params.loss                     2 non-null      object             \n",
      " 19  params.momentum                 2 non-null      object             \n",
      " 20  params.base_gpu_id              2 non-null      object             \n",
      " 21  params.num_classes              2 non-null      object             \n",
      " 22  params.method                   2 non-null      object             \n",
      " 23  params.radius                   2 non-null      object             \n",
      " 24  params.eta                      2 non-null      object             \n",
      " 25  params.theta                    2 non-null      object             \n",
      " 26  params.weight_decay             2 non-null      object             \n",
      " 27  params.model                    2 non-null      object             \n",
      " 28  params.step_size                2 non-null      object             \n",
      " 29  params.random_seed              2 non-null      object             \n",
      " 30  params.adaptive                 2 non-null      object             \n",
      " 31  params.force_cpu                2 non-null      object             \n",
      " 32  params.dimension                2 non-null      object             \n",
      " 33  params.dataset                  2 non-null      object             \n",
      " 34  params.optimizer                2 non-null      object             \n",
      " 35  params.epochs                   2 non-null      object             \n",
      " 36  tags.mlflow.project.entryPoint  2 non-null      object             \n",
      " 37  tags.mlflow.source.git.repoURL  2 non-null      object             \n",
      " 38  tags.mlflow.source.type         2 non-null      object             \n",
      " 39  tags.mlflow.parentRunId         2 non-null      object             \n",
      " 40  tags.mlflow.gitRepoURL          2 non-null      object             \n",
      " 41  tags.mlflow.runName             2 non-null      object             \n",
      " 42  tags.mlflow.user                2 non-null      object             \n",
      " 43  tags.mlflow.source.git.commit   2 non-null      object             \n",
      " 44  tags.mlflow.source.name         2 non-null      object             \n",
      " 45  tags.mlflow.project.backend     2 non-null      object             \n",
      " 46  mth_family                      2 non-null      object             \n",
      " 47  mth_number                      2 non-null      int64              \n",
      " 48  trial_number                    2 non-null      int64              \n",
      "dtypes: datetime64[ns, UTC](2), float64(7), int64(2), object(38)\n",
      "memory usage: 800.0+ bytes\n"
     ]
    }
   ],
   "source": [
    "# First, let's make a copy of the whole data frame to be safe.\n",
    "runs_notnull_parsed = runs_notnull.copy()\n",
    "\n",
    "# Next, grab the column to be parsed, populate some lists, turn into Series objects.\n",
    "mth_family_names = []\n",
    "mth_numbers = []\n",
    "trial_numbers = []\n",
    "for run_name in runs_notnull_parsed[\"tags.mlflow.runName\"]:\n",
    "    pc_check, mth_details = run_name.split(\":\")\n",
    "    if pc_check == \"parent\":\n",
    "        raise ValueError(\"Something is wrong; should not have any parent runs here.\")\n",
    "    elif pc_check == \"child\":\n",
    "        mth_family_name, mth_number, trial_info = mth_details.split(\"-\")\n",
    "        mth_family_names += [mth_family_name]\n",
    "        mth_numbers += [int(mth_number)]\n",
    "        trial_numbers += [int(trial_info[1:])]\n",
    "    else:\n",
    "        raise ValueError(\"Something is wrong; did not find a child run.\")\n",
    "\n",
    "# Try adding these columns to the right-most side of the DataFrame of interest.\n",
    "original_width = runs_notnull_parsed.shape[1]\n",
    "runs_notnull_parsed.insert(original_width, \"trial_number\", trial_numbers)\n",
    "runs_notnull_parsed.insert(original_width, \"mth_number\", mth_numbers)\n",
    "runs_notnull_parsed.insert(original_width, \"mth_family\", mth_family_names)\n",
    "runs_notnull_parsed.info()"
   ]
  },
  {
   "cell_type": "markdown",
   "id": "ac180248-7e97-443b-b825-d42fe66246b6",
   "metadata": {},
   "source": [
    "Good, that was extremely easy. Before getting into some proper analysis, let's do some basic sanity checks."
   ]
  },
  {
   "cell_type": "code",
   "execution_count": 7,
   "id": "78f723ab-d48a-4e9c-bde3-251df02cc3c7",
   "metadata": {
    "scrolled": true
   },
   "outputs": [
    {
     "name": "stdout",
     "output_type": "stream",
     "text": [
      "- - Unique trial numbers: [0 1]\n",
      "- - Unique family names: ['ERM']\n",
      "- - - Method number counts (ERM):\n",
      "mth_number\n",
      "0    2\n",
      "Name: count, dtype: int64\n"
     ]
    }
   ],
   "source": [
    "# Check family names.\n",
    "runs_tocheck = runs_notnull_parsed\n",
    "unique_trial_numbers = np.sort(runs_notnull_parsed[\"trial_number\"].unique())\n",
    "print(\"- - Unique trial numbers:\", unique_trial_numbers)\n",
    "unique_family_names = np.sort(runs_notnull_parsed[\"mth_family\"].unique())\n",
    "print(\"- - Unique family names:\", unique_family_names)\n",
    "# Check method numbers.\n",
    "for mth_family_name in unique_family_names:\n",
    "    idx_methods = runs_tocheck[\"mth_family\"] == mth_family_name\n",
    "    runs_tocheck_methods = runs_tocheck[idx_methods]\n",
    "    print(\"- - - Method number counts ({}):\".format(mth_family_name))\n",
    "    print(runs_tocheck_methods[\"mth_number\"].value_counts())"
   ]
  },
  {
   "cell_type": "markdown",
   "id": "23d97dd0-3234-42db-bd67-4dbb8cd50913",
   "metadata": {},
   "source": [
    "Excellent, the sanity checks come out with the results that we expect. We are going to have need for metrics soon, so let's be sure to grab the metric names now."
   ]
  },
  {
   "cell_type": "code",
   "execution_count": 8,
   "id": "feeff336-5438-486c-9fb8-129b7dfde8fc",
   "metadata": {},
   "outputs": [
    {
     "name": "stdout",
     "output_type": "stream",
     "text": [
      "All metric names: ['model_norm', 'loss_va', 'acc_te', 'acc_va', 'acc_tr', 'loss_te', 'loss_tr']\n"
     ]
    }
   ],
   "source": [
    "# Metric names.\n",
    "metrics = [c[8:] for c in runs_notnull_parsed.columns if c.startswith(\"metrics\")]\n",
    "\n",
    "# Specify the metric to be used for validation.\n",
    "metric_for_validation = \"acc_va\"\n",
    "if metric_for_validation not in metrics:\n",
    "    raise ValueError(\"The selected metric {} is not available...\".format(metric_for_validation))\n",
    "print(\"All metric names:\", metrics)\n",
    "if metric_for_validation == \"loss_va\":\n",
    "    do_argmax = False\n",
    "elif metric_for_validation == \"acc_va\":\n",
    "    do_argmax = True\n",
    "else:\n",
    "    raise ValueError(\"Unexpected metric for validation.\")\n",
    "\n",
    "# Function in charge of selecting the best candidate.\n",
    "def get_best_idx(metric_history_list, do_argmax=do_argmax):\n",
    "    '''\n",
    "    Given a list of sequences, this function returns the index\n",
    "    of the \"best\" sequence by taking an *argmax/min* over the *final* values\n",
    "    of these sequences (e.g., final accuracy, loss, etc.).\n",
    "    '''\n",
    "    list_len = len(metric_history_list)\n",
    "    if list_len < 1:\n",
    "        raise ValueError(\"No metric histories provided.\")\n",
    "    elif list_len == 1:\n",
    "        return 0\n",
    "    else:\n",
    "        values_to_compare = []\n",
    "        for mh in metric_history_list:\n",
    "            values_to_compare += [mh[-1]] # use last step.\n",
    "        if do_argmax:\n",
    "            return np.argmax(np.array(values_to_compare)).item()\n",
    "        else:\n",
    "            return np.argmin(np.array(values_to_compare)).item()\n"
   ]
  },
  {
   "cell_type": "markdown",
   "id": "cb7cf5e8-b0d4-4624-8e6a-d63042460a5b",
   "metadata": {},
   "source": [
    "To proceed, we set up a loop very similar to the one we just did for our sanity checks, but this time we grab *candidate run IDs*, use these to read in the *metric history*, and then finally choose a *representative run ID* for each combination of (trial, method family)."
   ]
  },
  {
   "cell_type": "code",
   "execution_count": 9,
   "id": "32fab360-6de4-4dce-8b40-4f3a2d28b11d",
   "metadata": {},
   "outputs": [
    {
     "name": "stdout",
     "output_type": "stream",
     "text": [
      "{'ERM': ['66078c307a6d46398e10e34e4db1488b', 'fc90164b001647679f24bca173ddbb7c']}\n"
     ]
    }
   ],
   "source": [
    "# Set up a dictionary where we can store \"representative\" run IDs and results for each method family.\n",
    "dict_of_run_ids = {m:[] for m in unique_family_names}\n",
    "\n",
    "# Get the loop going, with a \"client\" for reading in metric history.\n",
    "client = mlflow.tracking.MlflowClient()\n",
    "runs_tocheck = runs_notnull_parsed\n",
    "unique_trial_numbers = np.sort(runs_notnull_parsed[\"trial_number\"].unique())\n",
    "unique_family_names = np.sort(runs_notnull_parsed[\"mth_family\"].unique())\n",
    "for trial_number in unique_trial_numbers:\n",
    "    runs_tocheck_bytrial = runs_tocheck[runs_tocheck[\"trial_number\"] == trial_number]\n",
    "    for mth_family_name in unique_family_names:\n",
    "        idx_candidates = runs_tocheck_bytrial[\"mth_family\"] == mth_family_name\n",
    "        runs_tocheck_byfamily = runs_tocheck_bytrial[idx_candidates]\n",
    "        candidate_run_ids = runs_tocheck_byfamily.run_id\n",
    "        #print(type(candidate_run_ids), len(candidate_run_ids))\n",
    "        #print(candidate_run_ids)\n",
    "        if len(candidate_run_ids) == 1:\n",
    "            # If only one setting, no need to check validation data.\n",
    "            best_idx = 0\n",
    "        elif len(candidate_run_ids) > 1:\n",
    "            # When have multiple settings, use the specified metric for validation.\n",
    "            metric_history_list = [\n",
    "                [s.value for s in client.get_metric_history(r, metric_for_validation)] for r in candidate_run_ids\n",
    "            ]\n",
    "            best_idx = get_best_idx(metric_history_list)\n",
    "        else:\n",
    "            raise ValueError(\"No candidate runs...!\")\n",
    "            \n",
    "        dict_of_run_ids[mth_family_name] += [candidate_run_ids.iloc[best_idx]]\n",
    "                \n",
    "print(dict_of_run_ids)"
   ]
  },
  {
   "cell_type": "markdown",
   "id": "e549a1f0-7979-4b10-ab20-4f706774a8b8",
   "metadata": {},
   "source": [
    "With all the final candidate run IDs in place, all that remains is to get the relevant metric histories for each, and plot them in a clear, readable fashion."
   ]
  },
  {
   "cell_type": "code",
   "execution_count": 10,
   "id": "08a10c71-e4e7-4523-bc80-cda525259904",
   "metadata": {},
   "outputs": [
    {
     "name": "stdout",
     "output_type": "stream",
     "text": [
      "final values (ave, loss_tr)\n",
      "  0.0010745938925538212 (ERM)\n",
      "final values (ave, loss_te)\n",
      "  0.6929745674133301 (ERM)\n",
      "final values (ave, acc_tr)\n",
      "  0.999863475561142 (ERM)\n",
      "final values (ave, acc_te)\n",
      "  0.9059618711471558 (ERM)\n",
      "final values (ave, model_norm)\n",
      "  277.10743713378906 (ERM)\n"
     ]
    },
    {
     "data": {
      "image/png": "[encoded data removed]",
      "text/plain": [
       "<Figure size 600x900 with 3 Axes>"
      ]
     },
     "metadata": {},
     "output_type": "display_data"
    }
   ],
   "source": [
    "# List of metrics to use for each subplot.\n",
    "metrics_to_use_list = [[\"loss_tr\", \"loss_te\"], [\"acc_tr\", \"acc_te\"], [\"model_norm\"]]\n",
    "\n",
    "# Color setup.\n",
    "colors_by_method = {\n",
    "    \"ERM\": \"xkcd:black\",\n",
    "    \"Ishida\": \"xkcd:aquamarine\",\n",
    "    \"SAM\": \"xkcd:neon purple\",\n",
    "    \"SoftAD\": \"xkcd:pinkish red\"\n",
    "}\n",
    "\n",
    "# Name setup.\n",
    "plotnames_by_method = {\n",
    "    \"ERM\": \"ERM\",\n",
    "    \"Ishida\": \"Flood\",\n",
    "    \"SAM\": \"SAM\",\n",
    "    \"SoftAD\": \"SoftAD\"\n",
    "}\n",
    "\n",
    "# Extra details to check.\n",
    "extras_by_method = {\n",
    "    \"ERM\": [],\n",
    "    \"Ishida\": [\"params.flood_level\"],\n",
    "    \"SAM\": [\"params.radius\"],\n",
    "    \"SoftAD\": [\"params.theta\"],\n",
    "}\n",
    "\n",
    "\n",
    "client = mlflow.tracking.MlflowClient()\n",
    "# Prepare the figure (one sub-plot per metric, but with tr and te on same plot).\n",
    "fig, axes = plt.subplots(3, figsize=(6, 3*len(metrics_to_use_list)), sharex=True)\n",
    "\n",
    "# Get the run IDs selected for all methods.\n",
    "best_run_ids = dict_of_run_ids\n",
    "\n",
    "# For each method, look at extra info of interest.\n",
    "for mth_family_name in best_run_ids:\n",
    "    extras_list = extras_by_method[mth_family_name]\n",
    "    if len(extras_list) > 0:\n",
    "        df = runs_notnull_parsed[runs_notnull_parsed[\"run_id\"].isin(best_run_ids[mth_family_name])]\n",
    "        for extra_name in extras_list:\n",
    "            print(\"({}, {})\".format(mth_family_name, extra_name))\n",
    "            print(\"mean:\", df[extra_name].astype(float).mean(),\n",
    "                  \"stdev:\", df[extra_name].astype(float).std())\n",
    "            print(df[extra_name])\n",
    "\n",
    "# Get a loop going.\n",
    "for ax, metrics_to_use in zip(axes, metrics_to_use_list):\n",
    "\n",
    "    # Process things for the first metric (always at least one).\n",
    "    metric_to_use = metrics_to_use[0] # set metric name by hand.\n",
    "    print(\"final values (ave, {})\".format(metric_to_use))\n",
    "    for mth_family_name in best_run_ids:\n",
    "        # Get metrics for the representative candidates.\n",
    "        metric_array = [\n",
    "            [s.value for s in client.get_metric_history(r, metric_to_use)] for r in best_run_ids[mth_family_name]\n",
    "        ]\n",
    "        # Organize into a numpy array, and plot the average over trials.\n",
    "        metric_array = np.array(metric_array)\n",
    "        #print(\"DBDB\", mth_family_name, metric_to_use, metric_array.shape)\n",
    "        ax.plot(\n",
    "            np.arange(0, metric_array.shape[1], 1), metric_array.mean(axis=0),\n",
    "            color=colors_by_method[mth_family_name],\n",
    "            linestyle=\"solid\",\n",
    "            label=plotnames_by_method[mth_family_name]\n",
    "        )\n",
    "        print(\" \", metric_array.mean(axis=0)[-1], \"({})\".format(mth_family_name))\n",
    "\n",
    "    # If have more than one metric, plot the second one, but no more.\n",
    "    if len(metrics_to_use) > 1:\n",
    "        metric_to_use = metrics_to_use[1] # set metric name by hand.\n",
    "        print(\"final values (ave, {})\".format(metric_to_use))\n",
    "        for mth_family_name in best_run_ids:\n",
    "            # Get metrics for the representative candidates.\n",
    "            metric_array = [\n",
    "                [s.value for s in client.get_metric_history(r, metric_to_use)] for r in best_run_ids[mth_family_name]\n",
    "            ]\n",
    "            # Organize into a numpy array, and plot the average over trials.\n",
    "            metric_array = np.array(metric_array)\n",
    "            ax.plot(\n",
    "                np.arange(0, metric_array.shape[1], 1), metric_array.mean(axis=0),\n",
    "                color=colors_by_method[mth_family_name],\n",
    "                linestyle=\"dashed\"\n",
    "            )\n",
    "            print(\" \", metric_array.mean(axis=0)[-1], \"({})\".format(mth_family_name))\n",
    "    if len(metrics_to_use) > 2:\n",
    "        raise ValueError(\"Expected one or two metrics, no more/less.\")\n",
    "\n",
    "    # Having plotted for all methods, configure other parts of the current sub-plot.\n",
    "    metric_name_for_plot = metrics_to_use[0].split(\"_\")[0 if len(metrics_to_use) > 1 else 1]\n",
    "    ax.set_title(\"metric = {}\".format(metric_name_for_plot))\n",
    "    ax.legend(loc=\"best\")\n",
    "    \n",
    "# Finally, macroscropic settings for the whole figure.\n",
    "fig.suptitle(\n",
    "    \"Trajectory of metrics over epochs (data = {})\".format(data_name)\n",
    ")\n",
    "plt.tight_layout()\n",
    "fname = os.path.join(img_path, \"benchmarks_{}.{}\".format(data_name, my_ext))\n",
    "plt.savefig(fname=fname)\n",
    "plt.show()"
   ]
  },
  {
   "cell_type": "markdown",
   "id": "11c0d3a9-329f-4796-8a69-7a75c9ae6109",
   "metadata": {},
   "source": [
    "___"
   ]
  }
 ],
 "metadata": {
  "kernelspec": {
   "display_name": "Python 3 (ipykernel)",
   "language": "python",
   "name": "python3"
  },
  "language_info": {
   "codemirror_mode": {
    "name": "ipython",
    "version": 3
   },
   "file_extension": ".py",
   "mimetype": "text/x-python",
   "name": "python",
   "nbconvert_exporter": "python",
   "pygments_lexer": "ipython3",
   "version": "3.11.6"
  }
 },
 "nbformat": 4,
 "nbformat_minor": 5
}
